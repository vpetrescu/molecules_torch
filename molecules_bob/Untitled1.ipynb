{
 "cells": [
  {
   "cell_type": "code",
   "execution_count": null,
   "metadata": {
    "collapsed": false
   },
   "outputs": [
    {
     "data": {
      "text/plain": [
       "==> processing options\t\n",
       "==> executing all\t\n"
      ]
     },
     "execution_count": 1,
     "metadata": {},
     "output_type": "execute_result"
    },
    {
     "data": {
      "text/plain": [
       "==> using reduced training data, for fast experiments\t\n",
       "==> loading dataset\t\n"
      ]
     },
     "execution_count": 1,
     "metadata": {},
     "output_type": "execute_result"
    },
    {
     "data": {
      "text/plain": [
       "\n",
       " 63052\n",
       "     1\n",
       "     1\n",
       "   759\n",
       "[torch.LongStorage of size 4]\n",
       "\n"
      ]
     },
     "execution_count": 1,
     "metadata": {},
     "output_type": "execute_result"
    },
    {
     "data": {
      "text/plain": [
       "\n",
       " 1433\n",
       "    1\n",
       "    1\n",
       "  759\n",
       "[torch.LongStorage of size 4]\n",
       "\n",
       "==> preprocessing data\t\n"
      ]
     },
     "execution_count": 1,
     "metadata": {},
     "output_type": "execute_result"
    },
    {
     "data": {
      "text/plain": [
       "==> preprocessing data: normalize each feature (channel) globally\t\n"
      ]
     },
     "execution_count": 1,
     "metadata": {},
     "output_type": "execute_result"
    },
    {
     "data": {
      "text/plain": [
       "==> verify statistics\t\n"
      ]
     },
     "execution_count": 1,
     "metadata": {},
     "output_type": "execute_result"
    },
    {
     "data": {
      "text/plain": [
       "training data, y-channel, mean: -4.9566438596256\t\n",
       "training data, y-channel, standard deviation: 5.5543823750495\t\n",
       "test data, y-channel, mean: -4.9498553980921\t\n",
       "test data, y-channel, standard deviation: 5.5542496294519\t\n",
       "==> define parameters\t\n",
       "==> construct model\t\n"
      ]
     },
     "execution_count": 1,
     "metadata": {},
     "output_type": "execute_result"
    },
    {
     "data": {
      "text/plain": [
       "==> here is the model:\t\n",
       "nn.Sequential {\n",
       "  [input -> (1) -> (2) -> (3) -> (4) -> (5) -> (6) -> (7) -> (8) -> output]\n",
       "  (1): nn.SpatialConvolution\n",
       "  (2): nn.Tanh\n",
       "  (3): nn.Reshape(506)\n",
       "  (4): nn.Linear(506 -> 100)\n",
       "  (5): nn.Tanh\n",
       "  (6): nn.Linear(100 -> 200)\n",
       "  (7): nn.Tanh\n",
       "  (8): nn.Linear(200 -> 1)\n",
       "}\n",
       "{\n",
       "  gradInput : DoubleTensor - empty\n",
       "  modules : \n",
       "    {\n",
       "      1 : \n",
       "        nn.SpatialConvolution\n",
       "        {\n",
       "          dH : 1\n",
       "          dW : 3\n",
       "          nOutputPlane : 2\n",
       "          output : DoubleTensor - empty\n",
       "          gradInput : DoubleTensor - empty\n",
       "          gradBias : DoubleTensor - size: 2\n",
       "          weight : DoubleTensor - size: 2x1x1x3\n",
       "          bias : DoubleTensor - size: 2\n",
       "          gradWeight : DoubleTensor - size: 2x1x1x3\n",
       "          padding : 0\n",
       "          nInputPlane : 1\n",
       "          kW : 3\n",
       "          kH : 1\n",
       "        }\n",
       "      2 : \n",
       "        nn.Tanh\n",
       "        {\n",
       "          gradInput : DoubleTensor - empty\n",
       "          output : DoubleTensor - empty\n",
       "        }\n",
       "      3 : \n",
       "        nn.Reshape(506)\n",
       "        {\n",
       "          nelement : 506\n",
       "          _input : DoubleTensor - empty\n",
       "          output : DoubleTensor - empty\n",
       "          gradInput : DoubleTensor - empty\n",
       "          size : LongStorage - size: 1\n",
       "          _gradOutput : DoubleTensor - empty\n",
       "          batchsize : LongStorage - size: 2\n",
       "        }\n",
       "      4 : \n",
       "        nn.Linear(506 -> 100)\n",
       "        {\n",
       "          gradBias : DoubleTensor - size: 100\n",
       "          weight : DoubleTensor - size: 100x506\n",
       "          bias : DoubleTensor - size: 100\n",
       "          gradInput : DoubleTensor - empty\n",
       "          gradWeight : DoubleTensor - size: 100x506\n",
       "          output : DoubleTensor - empty\n",
       "        }\n",
       "      5 : \n",
       "        nn.Tanh\n",
       "        {\n",
       "          gradInput : DoubleTensor - empty\n",
       "          output : DoubleTensor - empty\n",
       "        }\n",
       "      6 : \n",
       "        nn.Linear(100 -> 200)\n",
       "        {\n",
       "          gradBias : DoubleTensor - size: 200\n",
       "          weight : DoubleTensor - size: 200x100\n",
       "          bias : DoubleTensor - size: 200\n",
       "          gradInput : DoubleTensor - empty\n",
       "          gradWeight : DoubleTensor - size: 200x100\n",
       "          output : DoubleTensor - empty\n",
       "        }\n",
       "      7 : \n",
       "        nn.Tanh\n",
       "        {\n",
       "          gradInput : DoubleTensor - empty\n",
       "          output : DoubleTensor - empty\n",
       "        }\n",
       "      8 : \n",
       "        nn.Linear(200 -> 1)\n",
       "        {\n",
       "          gradBias : DoubleTensor - size: 1\n",
       "          weight : DoubleTensor - size: 1x200\n",
       "          bias : DoubleTensor - size: 1\n",
       "          gradInput : DoubleTensor - empty\n",
       "          gradWeight : DoubleTensor - size: 1x200\n",
       "          output : DoubleTensor - empty\n",
       "        }\n",
       "    }\n",
       "  output : DoubleTensor - empty\n",
       "}\n",
       "==> define loss\t\n",
       "==> here is the loss function:\t\n",
       "nn.MSECriterion\n",
       "{\n",
       "  gradInput : DoubleTensor - empty\n",
       "  sizeAverage : false\n",
       "  output : 0\n",
       "}\n"
      ]
     },
     "execution_count": 1,
     "metadata": {},
     "output_type": "execute_result"
    },
    {
     "data": {
      "text/plain": [
       "==> defining some tools\t\n"
      ]
     },
     "execution_count": 1,
     "metadata": {},
     "output_type": "execute_result"
    },
    {
     "data": {
      "text/plain": [
       "==> configuring optimizer\t\n",
       "==> defining training procedure\t\n",
       "==> defining test procedure\t\n",
       "==> training!\t\n",
       "==> doing epoch on training data:\t\n"
      ]
     },
     "execution_count": 1,
     "metadata": {},
     "output_type": "execute_result"
    },
    {
     "data": {
      "text/plain": [
       "==> online epoch # 1 [batchSize = 200]\t\n"
      ]
     },
     "execution_count": 1,
     "metadata": {},
     "output_type": "execute_result"
    },
    {
     "data": {
      "text/plain": [
       "Progress: 37401 / 63052\t\n"
      ]
     },
     "execution_count": 1,
     "metadata": {},
     "output_type": "execute_result"
    },
    {
     "data": {
      "text/plain": [
       "\n",
       "==> time to learn 1 sample = 0.2889013196629ms\t\n"
      ]
     },
     "execution_count": 1,
     "metadata": {},
     "output_type": "execute_result"
    },
    {
     "data": {
      "text/plain": [
       "==> saving model to /Users/viviana/Desktop/molecules/tutorials/molecules_nolog/results/model.net\t\n"
      ]
     },
     "execution_count": 1,
     "metadata": {},
     "output_type": "execute_result"
    },
    {
     "data": {
      "text/plain": [
       "==> testing on test set:\t\n"
      ]
     },
     "execution_count": 1,
     "metadata": {},
     "output_type": "execute_result"
    },
    {
     "data": {
      "text/plain": [
       "error rmse\t\n",
       "117.25225353388\t\n",
       " 90.2851\n",
       "[torch.DoubleTensor of dimension 1]\n",
       "\n"
      ]
     },
     "execution_count": 1,
     "metadata": {},
     "output_type": "execute_result"
    },
    {
     "data": {
      "text/plain": [
       "error rmse\t\n",
       "115.60182548074\t\n",
       "\n",
       "==> time to test 1 sample = 4.3698212356727ms\t\n"
      ]
     },
     "execution_count": 1,
     "metadata": {},
     "output_type": "execute_result"
    },
    {
     "data": {
      "text/plain": [
       "==> doing epoch on training data:\t\n",
       "==> online epoch # 2 [batchSize = 200]\t\n"
      ]
     },
     "execution_count": 1,
     "metadata": {},
     "output_type": "execute_result"
    },
    {
     "data": {
      "text/plain": [
       "Progress: 5401 / 63052\t"
      ]
     },
     "execution_count": 1,
     "metadata": {},
     "output_type": "execute_result"
    },
    {
     "data": {
      "text/plain": [
       "\n"
      ]
     },
     "execution_count": 1,
     "metadata": {},
     "output_type": "execute_result"
    },
    {
     "data": {
      "text/plain": [
       "Progress: 59601 / 63052\t\n"
      ]
     },
     "execution_count": 1,
     "metadata": {},
     "output_type": "execute_result"
    },
    {
     "data": {
      "text/plain": [
       "\n",
       "==> time to learn 1 sample = 0.27715847485109ms\t\n"
      ]
     },
     "execution_count": 1,
     "metadata": {},
     "output_type": "execute_result"
    },
    {
     "data": {
      "text/plain": [
       "==> saving model to /Users/viviana/Desktop/molecules/tutorials/molecules_nolog/results/model.net\t\n"
      ]
     },
     "execution_count": 1,
     "metadata": {},
     "output_type": "execute_result"
    },
    {
     "data": {
      "text/plain": [
       "==> testing on test set:\t\n"
      ]
     },
     "execution_count": 1,
     "metadata": {},
     "output_type": "execute_result"
    },
    {
     "data": {
      "text/plain": [
       "error rmse\t\n",
       "101.58555222897\t\n",
       " 79.8648\n",
       "[torch.DoubleTensor of dimension 1]\n",
       "\n"
      ]
     },
     "execution_count": 1,
     "metadata": {},
     "output_type": "execute_result"
    },
    {
     "data": {
      "text/plain": [
       "error rmse\t\n",
       "100.27781289424\t\n",
       "\n",
       "==> time to test 1 sample = 5.0101137127979ms\t\n"
      ]
     },
     "execution_count": 1,
     "metadata": {},
     "output_type": "execute_result"
    },
    {
     "data": {
      "text/plain": [
       "==> doing epoch on training data:\t\n",
       "==> online epoch # 3 [batchSize = 200]\t\n"
      ]
     },
     "execution_count": 1,
     "metadata": {},
     "output_type": "execute_result"
    },
    {
     "data": {
      "text/plain": [
       "Progress: 23201 / 63052\t\n"
      ]
     },
     "execution_count": 1,
     "metadata": {},
     "output_type": "execute_result"
    },
    {
     "data": {
      "text/plain": [
       "\n",
       "==> time to learn 1 sample = 0.291253012736ms\t\n"
      ]
     },
     "execution_count": 1,
     "metadata": {},
     "output_type": "execute_result"
    },
    {
     "data": {
      "text/plain": [
       "==> saving model to /Users/viviana/Desktop/molecules/tutorials/molecules_nolog/results/model.net\t\n"
      ]
     },
     "execution_count": 1,
     "metadata": {},
     "output_type": "execute_result"
    },
    {
     "data": {
      "text/plain": [
       "==> testing on test set:\t\n"
      ]
     },
     "execution_count": 1,
     "metadata": {},
     "output_type": "execute_result"
    },
    {
     "data": {
      "text/plain": [
       "error rmse\t\n",
       "95.079287826266\t\n",
       " 74.7538\n",
       "[torch.DoubleTensor of dimension 1]\n",
       "\n"
      ]
     },
     "execution_count": 1,
     "metadata": {},
     "output_type": "execute_result"
    },
    {
     "data": {
      "text/plain": [
       "Progress: 31984 / 63052\t\n"
      ]
     },
     "execution_count": 1,
     "metadata": {},
     "output_type": "execute_result"
    },
    {
     "data": {
      "text/plain": [
       "error rmse\t\n",
       "93.994664284328\t\n",
       "\n",
       "==> time to test 1 sample = 4.6639602165994ms\t\n"
      ]
     },
     "execution_count": 1,
     "metadata": {},
     "output_type": "execute_result"
    },
    {
     "data": {
      "text/plain": [
       "==> doing epoch on training data:\t\n",
       "==> online epoch # 4 [batchSize = 200]\t\n"
      ]
     },
     "execution_count": 1,
     "metadata": {},
     "output_type": "execute_result"
    },
    {
     "data": {
      "text/plain": [
       "Progress: 39601 / 63052\t\n"
      ]
     },
     "execution_count": 1,
     "metadata": {},
     "output_type": "execute_result"
    },
    {
     "data": {
      "text/plain": [
       "\n",
       "==> time to learn 1 sample = 0.30480849215776ms\t\n"
      ]
     },
     "execution_count": 1,
     "metadata": {},
     "output_type": "execute_result"
    },
    {
     "data": {
      "text/plain": [
       "==> saving model to /Users/viviana/Desktop/molecules/tutorials/molecules_nolog/results/model.net\t\n"
      ]
     },
     "execution_count": 1,
     "metadata": {},
     "output_type": "execute_result"
    },
    {
     "data": {
      "text/plain": [
       "==> testing on test set:\t\n"
      ]
     },
     "execution_count": 1,
     "metadata": {},
     "output_type": "execute_result"
    },
    {
     "data": {
      "text/plain": [
       "error rmse\t\n",
       "103.00709996066\t\n",
       " 81.4269\n",
       "[torch.DoubleTensor of dimension 1]\n",
       "\n"
      ]
     },
     "execution_count": 1,
     "metadata": {},
     "output_type": "execute_result"
    },
    {
     "data": {
      "text/plain": [
       "error rmse\t\n",
       "102.147491318\t\n",
       "\n",
       "==> time to test 1 sample = 5.0794417759961ms\t\n"
      ]
     },
     "execution_count": 1,
     "metadata": {},
     "output_type": "execute_result"
    },
    {
     "data": {
      "text/plain": [
       "==> doing epoch on training data:\t\n",
       "==> online epoch # 5 [batchSize = 200]\t\n"
      ]
     },
     "execution_count": 1,
     "metadata": {},
     "output_type": "execute_result"
    },
    {
     "data": {
      "text/plain": [
       "Progress: 1601 / 63052\t\n"
      ]
     },
     "execution_count": 1,
     "metadata": {},
     "output_type": "execute_result"
    }
   ],
   "source": [
    "dofile('doall.lua')"
   ]
  },
  {
   "cell_type": "code",
   "execution_count": null,
   "metadata": {
    "collapsed": true
   },
   "outputs": [],
   "source": []
  }
 ],
 "metadata": {
  "kernelspec": {
   "display_name": "iTorch",
   "language": "lua",
   "name": "itorch"
  },
  "language_info": {
   "name": "lua",
   "version": "20100"
  }
 },
 "nbformat": 4,
 "nbformat_minor": 0
}
