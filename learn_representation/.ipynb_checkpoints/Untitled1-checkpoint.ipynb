{
 "cells": [
  {
   "cell_type": "code",
   "execution_count": 6,
   "metadata": {
    "collapsed": true
   },
   "outputs": [],
   "source": [
    "require 'torch'   -- torch\n",
    "require 'image'   -- for image transforms\n",
    "require 'nn'      -- provides all sorts of trainable modules/layers\n",
    "require 'InputDropout'\n",
    "require 'AtomLookupTable'\n",
    "\n",
    "   -- Simple 2-layer neural network, with tanh hidden units\n",
    "   nbr_input_size = 3\n",
    "   nbr_atom_types = 5\n",
    "   descriptor_length = 7\n",
    "  -- atom_representation = torch.Tensor(nbr_atom_types, descriptor_length)\n",
    "\n",
    "   model = nn.Sequential()\n",
    "   model:add(nn.AtomLookupTable(nbr_atom_types, descriptor_length))\n",
    "   model:add(nn.SplitTable(1))\n",
    "     p = nn.ParallelTable()\n",
    "     for i =1,nbr_input_size do\n",
    "       --p2 = nn.Linear(7,3)\n",
    "       p2 = nn.Sequential()\n",
    "       p2:add(nn.SplitTable(1))\n",
    "       p2:add(nn.DotProduct())\n",
    "       p:add(p2)\n",
    "     end\n",
    "   model:add(p)\n",
    "   model:add(nn.JoinTable(1))\n",
    "   scaling_layer = nn.CMul(nbr_input_size)\n",
    "   tempN = scaling_layer.weight:size()\n",
    "   scaling_layer.weight = torch.Tensor(tempN):fill(0.5)\n"
   ]
  },
  {
   "cell_type": "code",
   "execution_count": 7,
   "metadata": {
    "collapsed": false
   },
   "outputs": [
    {
     "data": {
      "text/plain": [
       "userdata\t\n"
      ]
     },
     "execution_count": 7,
     "metadata": {},
     "output_type": "execute_result"
    }
   ],
   "source": [
    "  model:add(scaling_layer)\n",
    "   model:add(nn.Tanh())\n",
    "   model:add(nn.Linear(nbr_input_size, 1))\n",
    "   input = torch.Tensor({{1,2},{3,4},{5,2}}) --,  {{5,5},{5,5},{5,2}} })\n",
    "   inputtable = {}\n",
    "   inputtable[1] = input\n",
    "   inputtable[2] = input\n",
    "   criterion = nn.MSECriterion()\n",
    "   criterion.sizeAverage = false\n",
    "   print(type(input))\n",
    "\n",
    "   model:training()\n",
    "   parameters, gradParameters = model:getParameters()\n",
    "   gradParameters:zero()\n",
    "   ltarget = torch.Tensor({100})\n",
    "   loutput = model:forward(input)\n",
    "   lerr = criterion:forward(loutput, ltarget)\n"
   ]
  },
  {
   "cell_type": "code",
   "execution_count": 9,
   "metadata": {
    "collapsed": false
   },
   "outputs": [
    {
     "ename": "/usr/local/share/lua/5.1/nn/Linear.lua:71: expected arguments: *DoubleTensor~1D* [DoubleTensor~1D] [double] DoubleTensor~2D DoubleTensor~1D | *DoubleTensor~1D* double [DoubleTensor~1D] double DoubleTensor~2D DoubleTensor~1D\nstack traceback:\n\t[C]: in function 'addmv'\n\t/usr/local/share/lua/5.1/nn/Linear.lua:71: in function 'updateGradInput'\n\t/usr/local/share/lua/5.1/nn/Sequential.lua:36: in function 'updateGradInput'\n\t/usr/local/share/lua/5.1/nn/Module.lua:30: in function 'f'\n\t[string \"local f = function() return model:backward(in...\"]:1: in main chunk\n\t[C]: in function 'xpcall'\n\t/Users/viviana/torch/install/share/lua/5.1/itorch/main.lua:174: in function </Users/viviana/torch/install/share/lua/5.1/itorch/main.lua:140>\n\t/Users/viviana/torch/install/share/lua/5.1/lzmq/poller.lua:75: in function 'poll'\n\t...s/viviana/torch/install/share/lua/5.1/lzmq/impl/loop.lua:307: in function 'poll'\n\t...s/viviana/torch/install/share/lua/5.1/lzmq/impl/loop.lua:325: in function 'sleep_ex'\n\t...s/viviana/torch/install/share/lua/5.1/lzmq/impl/loop.lua:370: in function 'start'\n\t/Users/viviana/torch/install/share/lua/5.1/itorch/main.lua:341: in main chunk\n\t[C]: in function 'require'\n\t(command line):1: in main chunk\n\t[C]: at 0x010aa927a0",
     "evalue": "",
     "output_type": "error",
     "traceback": [
      "/usr/local/share/lua/5.1/nn/Linear.lua:71: expected arguments: *DoubleTensor~1D* [DoubleTensor~1D] [double] DoubleTensor~2D DoubleTensor~1D | *DoubleTensor~1D* double [DoubleTensor~1D] double DoubleTensor~2D DoubleTensor~1D\nstack traceback:\n\t[C]: in function 'addmv'\n\t/usr/local/share/lua/5.1/nn/Linear.lua:71: in function 'updateGradInput'\n\t/usr/local/share/lua/5.1/nn/Sequential.lua:36: in function 'updateGradInput'\n\t/usr/local/share/lua/5.1/nn/Module.lua:30: in function 'f'\n\t[string \"local f = function() return model:backward(in...\"]:1: in main chunk\n\t[C]: in function 'xpcall'\n\t/Users/viviana/torch/install/share/lua/5.1/itorch/main.lua:174: in function </Users/viviana/torch/install/share/lua/5.1/itorch/main.lua:140>\n\t/Users/viviana/torch/install/share/lua/5.1/lzmq/poller.lua:75: in function 'poll'\n\t...s/viviana/torch/install/share/lua/5.1/lzmq/impl/loop.lua:307: in function 'poll'\n\t...s/viviana/torch/install/share/lua/5.1/lzmq/impl/loop.lua:325: in function 'sleep_ex'\n\t...s/viviana/torch/install/share/lua/5.1/lzmq/impl/loop.lua:370: in function 'start'\n\t/Users/viviana/torch/install/share/lua/5.1/itorch/main.lua:341: in main chunk\n\t[C]: in function 'require'\n\t(command line):1: in main chunk\n\t[C]: at 0x010aa927a0"
     ]
    }
   ],
   "source": [
    "model:backward(input, ldf_do)"
   ]
  },
  {
   "cell_type": "code",
   "execution_count": 5,
   "metadata": {
    "collapsed": false
   },
   "outputs": [
    {
     "data": {
      "text/plain": [
       "{\n",
       "  1 : \n",
       "    nn.Sequential {\n",
       "      [input -> (1) -> (2) -> (3) -> (4) -> (5) -> (6) -> (7) -> output]\n",
       "      (1): nn.AtomLookupTable\n",
       "      (2): nn.SplitTable\n",
       "      (3): nn.ParallelTable {\n",
       "        input\n",
       "          |`-> (1): nn.Sequential {\n",
       "          |      [input -> (1) -> (2) -> output]\n",
       "          |      (1): nn.SplitTable\n",
       "          |      (2): nn.DotProduct\n",
       "          |    }\n",
       "          |`-> (2): nn.Sequential {\n",
       "          |      [input -> (1) -> (2) -> output]\n",
       "          |      (1): nn.SplitTable\n",
       "          |      (2): nn.DotProduct\n",
       "          |    }\n",
       "          |`-> (3): nn.Sequential {\n",
       "          |      [input -> (1) -> (2) -> output]\n",
       "          |      (1): nn.SplitTable\n",
       "          |      (2): nn.DotProduct\n",
       "          |    }\n",
       "           ... -> output\n",
       "      }\n",
       "      (4): nn.JoinTable\n",
       "      (5): nn.CMul\n",
       "      (6): nn.Tanh\n",
       "      (7): nn.Linear(3 -> 1)\n",
       "    }\n",
       "    {\n",
       "      gradInput : DoubleTensor - empty\n",
       "      modules : \n",
       "        {\n",
       "          1 : \n",
       "            nn.AtomLookupTable\n",
       "            {\n",
       "              accUpdate : false\n",
       "              output : DoubleTensor - size: 3x2x7\n",
       "              gradInput : DoubleTensor - empty\n",
       "              nBackward : 0\n",
       "              batchSize : LongStorage - size: 3\n",
       "              inputs : table: 0x0b11c298\n",
       "              weight : DoubleTensor - size: 5x7\n",
       "              train : true\n",
       "              gradWeight : DoubleTensor - size: 5x7\n",
       "              size : LongStorage - size: 2\n",
       "              _inputView : LongTensor - size: 6\n",
       "              _indices : LongTensor - size: 3x2\n",
       "            }\n",
       "          2 : \n",
       "            nn.SplitTable\n",
       "            {\n",
       "              gradInput : DoubleTensor - empty\n",
       "              output : \n",
       "                {\n",
       "                  1 : DoubleTensor - size: 2x7\n",
       "                  2 : DoubleTensor - size: 2x7\n",
       "                  3 : DoubleTensor - size: 2x7\n",
       "                }\n",
       "              train : true\n",
       "              dimension : 1\n",
       "            }\n",
       "          3 : \n",
       "            nn.ParallelTable {\n",
       "              input\n",
       "                |`-> (1): nn.Sequential {\n",
       "                |      [input -> (1) -> (2) -> output]\n",
       "                |      (1): nn.SplitTable\n",
       "                |      (2): nn.DotProduct\n",
       "                |    }\n",
       "                |`-> (2): nn.Sequential {\n",
       "                |      [input -> (1) -> (2) -> output]\n",
       "                |      (1): nn.SplitTable\n",
       "                |      (2): nn.DotProduct\n",
       "                |    }\n",
       "                |`-> (3): nn.Sequential {\n",
       "                |      [input -> (1) -> (2) -> output]\n",
       "                |      (1): nn.SplitTable\n",
       "                |      (2): nn.DotProduct\n",
       "                |    }\n",
       "                 ... -> output\n",
       "            }\n",
       "            {\n",
       "              gradInput : table: 0x0b121d00\n",
       "              modules : \n",
       "                {\n",
       "                  1 : nn.Sequential {\n",
       "  [input -> (1) -> (2) -> output]\n",
       "  (1): nn.SplitTable\n",
       "  (2): nn.DotProduct\n",
       "}\n",
       "                  2 : nn.Sequential {\n",
       "  [input -> (1) -> (2) -> output]\n",
       "  (1): nn.SplitTable\n",
       "  (2): nn.DotProduct\n",
       "}\n",
       "      "
      ]
     },
     "execution_count": 5,
     "metadata": {},
     "output_type": "execute_result"
    },
    {
     "data": {
      "text/plain": [
       "            3 : nn.Sequential {\n",
       "  [input -> (1) -> (2) -> output]\n",
       "  (1): nn.SplitTable\n",
       "  (2): nn.DotProduct\n",
       "}\n",
       "                }\n",
       "              output : \n",
       "                {\n",
       "                  1 : DoubleTensor - size: 1\n",
       "                  2 : DoubleTensor - size: 1\n",
       "                  3 : DoubleTensor - size: 1\n",
       "                }\n",
       "            }\n",
       "          4 : \n",
       "            nn.JoinTable\n",
       "            {\n",
       "              train : true\n",
       "              dimension : 1\n",
       "              gradInput : table: 0x0b15bc50\n",
       "              size : LongStorage - size: 1\n",
       "              output : DoubleTensor - size: 3\n",
       "            }\n",
       "          5 : \n",
       "            nn.CMul\n",
       "            {\n",
       "              output : DoubleTensor - size: 3\n",
       "              gradInput : DoubleTensor - empty\n",
       "              _output : DoubleTensor - size: 3\n",
       "              _repeat : DoubleTensor - empty\n",
       "              weight : DoubleTensor - size: 3\n",
       "              train : true\n",
       "              gradWeight : DoubleTensor - size: 3\n",
       "              _weight : DoubleTensor - size: 3\n",
       "              _expand : DoubleTensor - empty\n",
       "              size : LongStorage - size: 1\n",
       "            }\n",
       "          6 : \n",
       "            nn.Tanh\n",
       "            {\n",
       "              gradInput : DoubleTensor - empty\n",
       "              train : true\n",
       "              output : DoubleTensor - size: 3\n",
       "            }\n",
       "          7 : \n",
       "            nn.Linear(3 -> 1)\n",
       "            {\n",
       "              gradBias : DoubleTensor - size: 1\n",
       "              weight : DoubleTensor - size: 1x3\n",
       "              train : true\n",
       "              bias : DoubleTensor - size: 1\n",
       "              gradInput : DoubleTensor - size: 3\n",
       "              gradWeight : DoubleTensor - size: 1x3\n",
       "              output : DoubleTensor - size: 1\n",
       "            }\n",
       "        }\n",
       "      output : DoubleTensor - size: 1\n",
       "    }\n",
       "  2 : \n",
       "    nn.AtomLookupTable\n",
       "    {\n",
       "      accUpdate : false\n",
       "      output : DoubleTensor - size: 3x2x7\n",
       "      gradInput : DoubleTensor - empty\n",
       "      nBackward : 0\n",
       "      batchSize : LongStorage - size: 3\n",
       "      inputs : table: 0x0b11c298\n",
       "      weight : DoubleTensor - size: 5x7\n",
       "      train : true\n",
       "      gradWeight : DoubleTensor - size: 5x7\n",
       "      size : LongStorage - size: 2\n",
       "      _inputView : LongTensor - size: 6\n",
       "      _indices : LongTensor - size: 3x2\n",
       "    }\n",
       "  3 : \n",
       "    nn.SplitTable\n",
       "    {\n",
       "      gradInput : DoubleTensor - empty\n",
       "      output : \n",
       "        {\n",
       "          1 : DoubleTensor - size: 2x7\n",
       "          2 : DoubleTensor - size: 2x7\n",
       "          3 : DoubleTensor - size: 2x7\n",
       "        }\n",
       "      train : true\n",
       "      dimension : 1\n",
       "    }\n",
       "  4 : \n",
       "    nn.ParallelTable {\n",
       "      input\n",
       "        |`-> (1): nn.Sequential {\n",
       "        |      [input -> (1) -> (2) -> output]\n",
       "        |      (1): nn.SplitTable\n",
       "        |      (2): nn.DotProduct\n",
       "        |    }\n",
       "        |`-> (2): nn.Sequential {\n",
       "        |      [input -> (1) -> (2) -> output]\n",
       "        |      (1): nn.SplitTable\n",
       "        |      (2): nn.DotProduct\n",
       "        |    }\n",
       "        |`-> (3): nn.Sequential {\n",
       "        |      [input -> (1) -> (2) -> output]\n",
       "        |      (1): nn.SplitTable\n",
       "        |      (2): nn.DotProduct\n",
       "        |    }\n",
       "         ... -> output\n",
       "    }\n",
       "    {\n",
       "      gradInput : table: 0x0b121d00\n",
       "      modules : \n",
       "        {\n",
       "          1 : \n",
       "            "
      ]
     },
     "execution_count": 5,
     "metadata": {},
     "output_type": "execute_result"
    },
    {
     "data": {
      "text/plain": [
       "nn.Sequential {\n",
       "              [input -> (1) -> (2) -> output]\n",
       "              (1): nn.SplitTable\n",
       "              (2): nn.DotProduct\n",
       "            }\n",
       "            {\n",
       "              gradInput : DoubleTensor - empty\n",
       "              modules : \n",
       "                {\n",
       "                  1 : nn.SplitTable\n",
       "                  2 : nn.DotProduct\n",
       "                }\n",
       "              output : DoubleTensor - size: 1\n",
       "            }\n",
       "          2 : \n",
       "            nn.Sequential {\n",
       "              [input -> (1) -> (2) -> output]\n",
       "              (1): nn.SplitTable\n",
       "              (2): nn.DotProduct\n",
       "            }\n",
       "            {\n",
       "              gradInput : DoubleTensor - empty\n",
       "              modules : \n",
       "                {\n",
       "                  1 : nn.SplitTable\n",
       "                  2 : nn.DotProduct\n",
       "                }\n",
       "              output : DoubleTensor - size: 1\n",
       "            }\n",
       "          3 : \n",
       "            nn.Sequential {\n",
       "              [input -> (1) -> (2) -> output]\n",
       "              (1): nn.SplitTable\n",
       "              (2): nn.DotProduct\n",
       "            }\n",
       "            {\n",
       "              gradInput : DoubleTensor - empty\n",
       "              modules : \n",
       "                {\n",
       "                  1 : nn.SplitTable\n",
       "                  2 : nn.DotProduct\n",
       "                }\n",
       "              output : DoubleTensor - size: 1\n",
       "            }\n",
       "        }\n",
       "      output : \n",
       "        {\n",
       "          1 : DoubleTensor - size: 1\n",
       "          2 : DoubleTensor - size: 1\n",
       "          3 : DoubleTensor - size: 1\n",
       "        }\n",
       "    }\n",
       "  5 : \n",
       "    nn.Sequential {\n",
       "      [input -> (1) -> (2) -> output]\n",
       "      (1): nn.SplitTable\n",
       "      (2): nn.DotProduct\n",
       "    }\n",
       "    {\n",
       "      gradInput : DoubleTensor - empty\n",
       "      modules : \n",
       "        {\n",
       "          1 : \n",
       "            nn.SplitTable\n",
       "            {\n",
       "              gradInput : DoubleTensor - empty\n",
       "              output : \n",
       "                {\n",
       "                  1 : DoubleTensor - size: 7\n",
       "                  2 : DoubleTensor - size: 7\n",
       "                }\n",
       "              train : true\n",
       "              dimension : 1\n",
       "            }\n",
       "          2 : \n",
       "            nn.DotProduct\n",
       "            {\n",
       "              gradInput : \n",
       "                {\n",
       "                  1 : DoubleTensor - empty\n",
       "                  2 : DoubleTensor - empty\n",
       "                }\n",
       "              train : true\n",
       "              output : DoubleTensor - size: 1\n",
       "            }\n",
       "        }\n",
       "      output : DoubleTensor - size: 1\n",
       "    }\n",
       "  6 : \n",
       "    nn.SplitTable\n",
       "    {\n",
       "      gradInput : DoubleTensor - empty\n",
       "      output : \n",
       "        {\n",
       "          1 : DoubleTensor - size: 7\n",
       "          2 : DoubleTensor - size: 7\n",
       "        }\n",
       "      train : true\n",
       "      dimension : 1\n",
       "    }\n",
       "  7 : \n",
       "    nn.DotProduct\n",
       "    {\n",
       "      gradInput : \n",
       "        {\n",
       "          1 : DoubleTensor - empty\n",
       "          2 : DoubleTensor - empty\n",
       "        }\n",
       "      train : true\n",
       "      output : DoubleTensor - size: 1\n",
       "    }\n",
       "  8 : \n",
       "    nn.Sequential {\n",
       "      [input -> (1) -> (2) -> output]\n",
       "      (1): nn.SplitTable\n",
       "      (2): nn.DotProduct\n",
       "    }\n",
       "    {\n",
       "      gradInput : DoubleTensor - empty\n",
       "      modules : \n",
       "        {\n",
       "          1 : \n",
       "            nn.SplitTable\n",
       "            {\n",
       "              gradInput : DoubleTensor - empty\n",
       "              output : \n",
       "                {\n",
       "                  1 : DoubleTensor - size: 7\n",
       "                  2 : DoubleTensor - size: 7\n",
       "                }\n",
       "         "
      ]
     },
     "execution_count": 5,
     "metadata": {},
     "output_type": "execute_result"
    },
    {
     "data": {
      "text/plain": [
       "     train : true\n",
       "              dimension : 1\n",
       "            }\n",
       "          2 : \n",
       "            nn.DotProduct\n",
       "            {\n",
       "              gradInput : \n",
       "                {\n",
       "                  1 : DoubleTensor - empty\n",
       "                  2 : DoubleTensor - empty\n",
       "                }\n",
       "              train : true\n",
       "              output : DoubleTensor - size: 1\n",
       "            }\n",
       "        }\n",
       "      output : DoubleTensor - size: 1\n",
       "    }\n",
       "  9 : \n",
       "    nn.SplitTable\n",
       "    {\n",
       "      gradInput : DoubleTensor - empty\n",
       "      output : \n",
       "        {\n",
       "          1 : DoubleTensor - size: 7\n",
       "          2 : DoubleTensor - size: 7\n",
       "        }\n",
       "      train : true\n",
       "      dimension : 1\n",
       "    }\n",
       "  10 : \n",
       "    nn.DotProduct\n",
       "    {\n",
       "      gradInput : \n",
       "        {\n",
       "          1 : DoubleTensor - empty\n",
       "          2 : DoubleTensor - empty\n",
       "        }\n",
       "      train : true\n",
       "      output : DoubleTensor - size: 1\n",
       "    }\n",
       "  11 : \n",
       "    nn.Sequential {\n",
       "      [input -> (1) -> (2) -> output]\n",
       "      (1): nn.SplitTable\n",
       "      (2): nn.DotProduct\n",
       "    }\n",
       "    {\n",
       "      gradInput : DoubleTensor - empty\n",
       "      modules : \n",
       "        {\n",
       "          1 : \n",
       "            nn.SplitTable\n",
       "            {\n",
       "              gradInput : DoubleTensor - empty\n",
       "              output : \n",
       "                {\n",
       "                  1 : DoubleTensor - size: 7\n",
       "                  2 : DoubleTensor - size: 7\n",
       "                }\n",
       "              train : true\n",
       "              dimension : 1\n",
       "            }\n",
       "          2 : \n",
       "            nn.DotProduct\n",
       "            {\n",
       "              gradInput : \n",
       "                {\n",
       "                  1 : DoubleTensor - empty\n",
       "                  2 : DoubleTensor - empty\n",
       "                }\n",
       "              train : true\n",
       "              output : DoubleTensor - size: 1\n",
       "            }\n",
       "        }\n",
       "      output : DoubleTensor - size: 1\n",
       "    }\n",
       "  12 : \n",
       "    nn.SplitTable\n",
       "    {\n",
       "      gradInput : DoubleTensor - empty\n",
       "      output : \n",
       "        {\n",
       "          1 : DoubleTensor - size: 7\n",
       "          2 : DoubleTensor - size: 7\n",
       "        }\n",
       "      train : true\n",
       "      dimension : 1\n",
       "    }\n",
       "  13 : \n",
       "    nn.DotProduct\n",
       "    {\n",
       "      gradInput : \n",
       "        {\n",
       "          1 : DoubleTensor - empty\n",
       "          2 : DoubleTensor - empty\n",
       "        }\n",
       "      train : true\n",
       "      output : DoubleTensor - size: 1\n",
       "    }\n",
       "  14 : \n",
       "    nn.JoinTable\n",
       "    {\n",
       "      train : true\n",
       "      dimension : 1\n",
       "      gradInput : table: 0x0b15bc50\n",
       "      size : LongStorage - size: 1\n",
       "      output : DoubleTensor - size: 3\n",
       "    }\n",
       "  15 : \n",
       "    nn.CMul\n",
       "    {\n",
       "      output : DoubleTensor - size: 3\n",
       "      gradInput : DoubleTensor - empty\n",
       "      _output : DoubleTensor - size: 3\n",
       "      _repeat : DoubleTensor - empty\n",
       "      weight : DoubleTensor - size: 3\n",
       "      train : true\n",
       "      gradWeight : DoubleTensor - size: 3\n",
       "      _weight : DoubleTensor - size: 3\n",
       "      _expand : DoubleTensor - empty\n",
       "      size : LongStorage - size: 1\n",
       "    }\n",
       "  16 : \n",
       "    nn.Tanh\n",
       "    {\n",
       "      gradInput : DoubleTensor - empty\n",
       "      train : true\n",
       "      output : DoubleTensor - size: 3\n",
       "    }\n",
       "  17 : \n",
       "    nn.Linear(3 -> 1)\n",
       "    {\n",
       "      gradBias : DoubleTensor - size: 1\n",
       "      weight : DoubleTensor - size: 1x3\n",
       "      train : true\n",
       "      bias : DoubleTensor - size: 1\n",
       "      gradInput : DoubleTensor - size: 3\n",
       "      gradWeight : DoubleTensor - size: 1x3\n",
       "      output : DoubleTensor - size: 1\n",
       "    }\n",
       "}\n"
      ]
     },
     "execution_count": 5,
     "metadata": {},
     "output_type": "execute_result"
    }
   ],
   "source": [
    "model:listModules()"
   ]
  },
  {
   "cell_type": "code",
   "execution_count": 10,
   "metadata": {
    "collapsed": false
   },
   "outputs": [
    {
     "data": {
      "text/plain": [
       "\n"
      ]
     },
     "execution_count": 10,
     "metadata": {},
     "output_type": "execute_result"
    }
   ],
   "source": [
    "model:get(17)"
   ]
  },
  {
   "cell_type": "code",
   "execution_count": 11,
   "metadata": {
    "collapsed": true
   },
   "outputs": [],
   "source": [
    "a= model:get(17)"
   ]
  },
  {
   "cell_type": "code",
   "execution_count": 12,
   "metadata": {
    "collapsed": false
   },
   "outputs": [
    {
     "data": {
      "text/plain": [
       "\n"
      ]
     },
     "execution_count": 12,
     "metadata": {},
     "output_type": "execute_result"
    }
   ],
   "source": [
    "a"
   ]
  },
  {
   "cell_type": "code",
   "execution_count": 13,
   "metadata": {
    "collapsed": false
   },
   "outputs": [
    {
     "data": {
      "text/plain": [
       "nil\t\n"
      ]
     },
     "execution_count": 13,
     "metadata": {},
     "output_type": "execute_result"
    }
   ],
   "source": [
    "type(a)"
   ]
  },
  {
   "cell_type": "code",
   "execution_count": 14,
   "metadata": {
    "collapsed": false
   },
   "outputs": [
    {
     "data": {
      "text/plain": [
       "nn.AtomLookupTable\n",
       "{\n",
       "  accUpdate : false\n",
       "  output : DoubleTensor - size: 3x2x7\n",
       "  gradInput : DoubleTensor - empty\n",
       "  nBackward : 0\n",
       "  batchSize : LongStorage - size: 3\n",
       "  inputs : table: 0x0b19d228\n",
       "  weight : DoubleTensor - size: 5x7\n",
       "  train : true\n",
       "  gradWeight : DoubleTensor - size: 5x7\n",
       "  size : LongStorage - size: 2\n",
       "  _inputView : LongTensor - size: 6\n",
       "  _indices : LongTensor - size: 3x2\n",
       "}\n"
      ]
     },
     "execution_count": 14,
     "metadata": {},
     "output_type": "execute_result"
    }
   ],
   "source": [
    "model:get(1)"
   ]
  },
  {
   "cell_type": "code",
   "execution_count": 15,
   "metadata": {
    "collapsed": false
   },
   "outputs": [
    {
     "data": {
      "text/plain": [
       "nn.SplitTable\n",
       "{\n",
       "  gradInput : DoubleTensor - empty\n",
       "  output : \n",
       "    {\n",
       "      1 : DoubleTensor - size: 2x7\n",
       "      2 : DoubleTensor - size: 2x7\n",
       "      3 : DoubleTensor - size: 2x7\n",
       "    }\n",
       "  train : true\n",
       "  dimension : 1\n",
       "}\n"
      ]
     },
     "execution_count": 15,
     "metadata": {},
     "output_type": "execute_result"
    }
   ],
   "source": [
    "model:get(2)"
   ]
  },
  {
   "cell_type": "code",
   "execution_count": 16,
   "metadata": {
    "collapsed": false
   },
   "outputs": [
    {
     "data": {
      "text/plain": [
       "nn.ParallelTable {\n",
       "  input\n",
       "    |`-> (1): nn.Sequential {\n",
       "    |      [input -> (1) -> (2) -> output]\n",
       "    |      (1): nn.SplitTable\n",
       "    |      (2): nn.DotProduct\n",
       "    |    }\n",
       "    |`-> (2): nn.Sequential {\n",
       "    |      [input -> (1) -> (2) -> output]\n",
       "    |      (1): nn.SplitTable\n",
       "    |      (2): nn.DotProduct\n",
       "    |    }\n",
       "    |`-> (3): nn.Sequential {\n",
       "    |      [input -> (1) -> (2) -> output]\n",
       "    |      (1): nn.SplitTable\n",
       "    |      (2): nn.DotProduct\n",
       "    |    }\n",
       "     ... -> output\n",
       "}\n",
       "{\n",
       "  gradInput : table: 0x0af54ef0\n",
       "  modules : \n",
       "    {\n",
       "      1 : \n",
       "        nn.Sequential {\n",
       "          [input -> (1) -> (2) -> output]\n",
       "          (1): nn.SplitTable\n",
       "          (2): nn.DotProduct\n",
       "        }\n",
       "        {\n",
       "          gradInput : DoubleTensor - empty\n",
       "          modules : \n",
       "            {\n",
       "              1 : \n",
       "                nn.SplitTable\n",
       "                {\n",
       "                  gradInput : DoubleTensor - empty\n",
       "                  output : table: 0x0b1a7478\n",
       "                  train : true\n",
       "                  dimension : 1\n",
       "                }\n",
       "              2 : \n",
       "                nn.DotProduct\n",
       "                {\n",
       "                  gradInput : table: 0x0af2b980\n",
       "                  train : true\n",
       "                  output : DoubleTensor - size: 1\n",
       "                }\n",
       "            }\n",
       "          output : DoubleTensor - size: 1\n",
       "        }\n",
       "      2 : \n",
       "        nn.Sequential {\n",
       "          [input -> (1) -> (2) -> output]\n",
       "          (1): nn.SplitTable\n",
       "          (2): nn.DotProduct\n",
       "        }\n",
       "        {\n",
       "          gradInput : DoubleTensor - empty\n",
       "          modules : \n",
       "            {\n",
       "              1 : \n",
       "                nn.SplitTable\n",
       "                {\n",
       "                  gradInput : DoubleTensor - empty\n",
       "                  output : table: 0x0b198630\n",
       "                  train : true\n",
       "                  dimension : 1\n",
       "                }\n",
       "              2 : \n",
       "                nn.DotProduct\n",
       "                {\n",
       "                  gradInput : table: 0x0aec1560\n",
       "                  train : true\n",
       "                  output : DoubleTensor - size: 1\n",
       "                }\n",
       "            }\n",
       "          output : DoubleTensor - size: 1\n",
       "        }\n",
       "      3 : \n",
       "        nn.Sequential {\n",
       "          [input -> (1) -> (2) -> output]\n",
       "          (1): nn.SplitTable\n",
       "          (2): nn.DotProduct\n",
       "        }\n",
       "        {\n",
       "          gradInput : DoubleTensor - empty\n",
       "          modules : \n",
       "            {\n",
       "              1 : \n",
       "                nn.SplitTable\n",
       "                {\n",
       "                  gradInput : DoubleTensor - empty\n",
       "                  output : table: 0x0b175c48\n",
       "           "
      ]
     },
     "execution_count": 16,
     "metadata": {},
     "output_type": "execute_result"
    },
    {
     "data": {
      "text/plain": [
       "       train : true\n",
       "                  dimension : 1\n",
       "                }\n",
       "              2 : \n",
       "                nn.DotProduct\n",
       "                {\n",
       "                  gradInput : table: 0x0b12d270\n",
       "                  train : true\n",
       "                  output : DoubleTensor - size: 1\n",
       "                }\n",
       "            }\n",
       "          output : DoubleTensor - size: 1\n",
       "        }\n",
       "    }\n",
       "  output : \n",
       "    {\n",
       "      1 : DoubleTensor - size: 1\n",
       "      2 : DoubleTensor - size: 1\n",
       "      3 : DoubleTensor - size: 1\n",
       "    }\n",
       "}\n"
      ]
     },
     "execution_count": 16,
     "metadata": {},
     "output_type": "execute_result"
    }
   ],
   "source": [
    "model:get(3)"
   ]
  },
  {
   "cell_type": "code",
   "execution_count": 17,
   "metadata": {
    "collapsed": false
   },
   "outputs": [
    {
     "data": {
      "text/plain": [
       "nn.ParallelTable {\n",
       "  input\n",
       "    |`-> (1): nn.Sequential {\n",
       "    |      [input -> (1) -> (2) -> output]\n",
       "    |      (1): nn.SplitTable\n",
       "    |      (2): nn.DotProduct\n",
       "    |    }\n",
       "    |`-> (2): nn.Sequential {\n",
       "    |      [input -> (1) -> (2) -> output]\n",
       "    |      (1): nn.SplitTable\n",
       "    |      (2): nn.DotProduct\n",
       "    |    }\n",
       "    |`-> (3): nn.Sequential {\n",
       "    |      [input -> (1) -> (2) -> output]\n",
       "    |      (1): nn.SplitTable\n",
       "    |      (2): nn.DotProduct\n",
       "    |    }\n",
       "     ... -> output\n",
       "}\n",
       "{\n",
       "  gradInput : table: 0x0af54ef0\n",
       "  modules : \n",
       "    {\n",
       "      1 : \n",
       "        nn.Sequential {\n",
       "          [input -> (1) -> (2) -> output]\n",
       "          (1): nn.SplitTable\n",
       "          (2): nn.DotProduct\n",
       "        }\n",
       "        {\n",
       "          gradInput : DoubleTensor - empty\n",
       "          modules : \n",
       "            {\n",
       "              1 : \n",
       "                nn.SplitTable\n",
       "                {\n",
       "                  gradInput : DoubleTensor - empty\n",
       "                  output : table: 0x0b1a7478\n",
       "                  train : true\n",
       "                  dimension : 1\n",
       "                }\n",
       "              2 : \n",
       "                nn.DotProduct\n",
       "                {\n",
       "                  gradInput : table: 0x0af2b980\n",
       "                  train : true\n",
       "                  output : DoubleTensor - size: 1\n",
       "                }\n",
       "            }\n",
       "          output : DoubleTensor - size: 1\n",
       "        }\n",
       "      2 : \n",
       "        nn.Sequential {\n",
       "          [input -> (1) -> (2) -> output]\n",
       "          (1): nn.SplitTable\n",
       "          (2): nn.DotProduct\n",
       "        }\n",
       "        {\n",
       "          gradInput : DoubleTensor - empty\n",
       "          modules : \n",
       "            {\n",
       "              1 : \n",
       "                nn.SplitTable\n",
       "                {\n",
       "                  gradInput : DoubleTensor - empty\n"
      ]
     },
     "execution_count": 17,
     "metadata": {},
     "output_type": "execute_result"
    },
    {
     "data": {
      "text/plain": [
       "                  output : table: 0x0b198630\n",
       "                  train : true\n",
       "                  dimension : 1\n",
       "                }\n",
       "              2 : \n",
       "                nn.DotProduct\n",
       "                {\n",
       "                  gradInput : table: 0x0aec1560\n",
       "                  train : true\n",
       "                  output : DoubleTensor - size: 1\n",
       "                }\n",
       "            }\n",
       "          output : DoubleTensor - size: 1\n",
       "        }\n",
       "      3 : \n",
       "        nn.Sequential {\n",
       "          [input -> (1) -> (2) -> output]\n",
       "          (1): nn.SplitTable\n",
       "          (2): nn.DotProduct\n",
       "        }\n",
       "        {\n",
       "          gradInput : DoubleTensor - empty\n",
       "          modules : \n",
       "            {\n",
       "              1 : \n",
       "                nn.SplitTable\n",
       "                {\n",
       "                  gradInput : DoubleTensor - empty\n",
       "                  output : table: 0x0b175c48\n",
       "                  train : true\n",
       "                  dimension : 1\n",
       "                }\n",
       "              2 : \n",
       "                nn.DotProduct\n",
       "                {\n",
       "                  gradInput : table: 0x0b12d270\n",
       "                  train : true\n",
       "                  output : DoubleTensor - size: 1\n",
       "                }\n",
       "            }\n",
       "          output : DoubleTensor - size: 1\n",
       "        }\n",
       "    }\n",
       "  output : \n",
       "    {\n",
       "      1 : DoubleTensor - size: 1\n",
       "      2 : DoubleTensor - size: 1\n",
       "      3 : DoubleTensor - size: 1\n",
       "    }\n",
       "}\n"
      ]
     },
     "execution_count": 17,
     "metadata": {},
     "output_type": "execute_result"
    }
   ],
   "source": [
    "model:get(3)"
   ]
  },
  {
   "cell_type": "code",
   "execution_count": 18,
   "metadata": {
    "collapsed": false
   },
   "outputs": [
    {
     "data": {
      "text/plain": [
       "nn.JoinTable\n",
       "{\n",
       "  train : true\n",
       "  dimension : 1\n",
       "  gradInput : table: 0x0b1004d8\n",
       "  size : LongStorage - size: 1\n",
       "  output : DoubleTensor - size: 3\n",
       "}\n"
      ]
     },
     "execution_count": 18,
     "metadata": {},
     "output_type": "execute_result"
    }
   ],
   "source": [
    "model:get(4)"
   ]
  },
  {
   "cell_type": "code",
   "execution_count": 19,
   "metadata": {
    "collapsed": false
   },
   "outputs": [
    {
     "data": {
      "text/plain": [
       "nn.CMul\n",
       "{\n",
       "  output : DoubleTensor - size: 3\n",
       "  gradInput : DoubleTensor - empty\n",
       "  _output : DoubleTensor - size: 3\n",
       "  _repeat : DoubleTensor - empty\n",
       "  weight : DoubleTensor - size: 3\n",
       "  train : true\n",
       "  gradWeight : DoubleTensor - size: 3\n",
       "  _weight : DoubleTensor - size: 3\n",
       "  _expand : DoubleTensor - empty\n",
       "  size : LongStorage - size: 1\n",
       "}\n"
      ]
     },
     "execution_count": 19,
     "metadata": {},
     "output_type": "execute_result"
    }
   ],
   "source": [
    "model:get(5)"
   ]
  },
  {
   "cell_type": "code",
   "execution_count": 20,
   "metadata": {
    "collapsed": false
   },
   "outputs": [
    {
     "data": {
      "text/plain": [
       "nn.Tanh\n",
       "{\n",
       "  gradInput : DoubleTensor - empty\n",
       "  train : true\n",
       "  output : DoubleTensor - size: 3\n",
       "}\n"
      ]
     },
     "execution_count": 20,
     "metadata": {},
     "output_type": "execute_result"
    }
   ],
   "source": [
    "model:get(6)"
   ]
  },
  {
   "cell_type": "code",
   "execution_count": 21,
   "metadata": {
    "collapsed": false
   },
   "outputs": [
    {
     "data": {
      "text/plain": [
       "nn.Linear(3 -> 1)\n",
       "{\n",
       "  gradBias : DoubleTensor - size: 1\n",
       "  weight : DoubleTensor - size: 1x3\n",
       "  train : true\n",
       "  bias : DoubleTensor - size: 1\n",
       "  gradInput : DoubleTensor - size: 3\n",
       "  gradWeight : DoubleTensor - size: 1x3\n",
       "  output : DoubleTensor - size: 1\n",
       "}\n"
      ]
     },
     "execution_count": 21,
     "metadata": {},
     "output_type": "execute_result"
    }
   ],
   "source": [
    "model:get(7)"
   ]
  },
  {
   "cell_type": "code",
   "execution_count": 26,
   "metadata": {
    "collapsed": true
   },
   "outputs": [],
   "source": [
    "last_layer=model:get(7)"
   ]
  },
  {
   "cell_type": "code",
   "execution_count": null,
   "metadata": {
    "collapsed": true
   },
   "outputs": [],
   "source": []
  },
  {
   "cell_type": "code",
   "execution_count": null,
   "metadata": {
    "collapsed": true
   },
   "outputs": [],
   "source": []
  }
 ],
 "metadata": {
  "kernelspec": {
   "display_name": "iTorch",
   "language": "lua",
   "name": "itorch"
  },
  "language_info": {
   "name": "lua",
   "version": "20100"
  }
 },
 "nbformat": 4,
 "nbformat_minor": 0
}
