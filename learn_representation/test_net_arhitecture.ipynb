{
 "cells": [
  {
   "cell_type": "code",
   "execution_count": 40,
   "metadata": {
    "collapsed": true
   },
   "outputs": [],
   "source": [
    "require 'torch'\n",
    "require 'image'\n",
    "require 'nn'\n",
    "require 'InputDropout'\n",
    "require 'AtomLookupTable'"
   ]
  },
  {
   "cell_type": "code",
   "execution_count": 41,
   "metadata": {
    "collapsed": true
   },
   "outputs": [],
   "source": [
    "nbr_input_size = 6\n",
    "nbr_atom_types = 5\n",
    "descriptor_length = 7\n"
   ]
  },
  {
   "cell_type": "code",
   "execution_count": 42,
   "metadata": {
    "collapsed": true
   },
   "outputs": [],
   "source": [
    "  atom_representation = torch.Tensor(nbr_atom_types, descriptor_length)\n",
    "\n",
    "   model = nn.Sequential()\n",
    "   model:add(nn.AtomLookupTable(nbr_atom_types, descriptor_length))\n"
   ]
  },
  {
   "cell_type": "code",
   "execution_count": 43,
   "metadata": {
    "collapsed": false
   },
   "outputs": [
    {
     "data": {
      "text/plain": [
       " 0.2889  0.9363  1.5691 -0.9442 -0.2759  0.3807 -1.5237\n",
       " 0.3926  0.0558  1.2819  0.6868  1.4159  0.4463  0.4737\n",
       "[torch.DoubleTensor of dimension 2x7]\n",
       "\n",
       "-0.3394  0.8134  0.1767 -1.5619 -0.3534 -1.3882 -0.2253\n",
       "-0.3733  0.3461 -0.6165  0.6642  0.3358  0.3746  0.4466\n",
       "[torch.DoubleTensor of dimension 2x7]\n",
       "\n",
       "-0.7670 -0.0521 -0.5443  0.0715 -0.3875  1.1996  2.5094\n",
       " 0.3926  0.0558  1.2819  0.6868  1.4159  0.4463  0.4737\n",
       "[torch.DoubleTensor of dimension 2x7]\n",
       "\n",
       " 0.2889  0.9363  1.5691 -0.9442 -0.2759  0.3807 -1.5237\n",
       " 0.2889  0.9363  1.5691 -0.9442 -0.2759  0.3807 -1.5237\n",
       "[torch.DoubleTensor of dimension 2x7]\n",
       "\n",
       " 0.2889  0.9363  1.5691 -0.9442 -0.2759  0.3807 -1.5237\n",
       " 0.3926  0.0558  1.2819  0.6868  1.4159  0.4463  0.4737\n",
       "[torch.DoubleTensor of dimension 2x7]\n",
       "\n",
       "-0.3394  0.8134  0.1767 -1.5619 -0.3534 -1.3882 -0.2253\n",
       "-0.3733  0.3461 -0.6165  0.6642  0.3358  0.3746  0.4466\n",
       "[torch.DoubleTensor of dimension 2x7]\n",
       "\n",
       "(1,.,.) = \n",
       "  0.2889  0.9363  1.5691 -0.9442 -0.2759  0.3807 -1.5237\n",
       "  0.3926  0.0558  1.2819  0.6868  1.4159  0.4463  0.4737\n",
       "\n",
       "(2,.,.) = \n",
       " -0.3394  0.8134  0.1767 -1.5619 -0.3534 -1.3882 -0.2253\n",
       " -0.3733  0.3461 -0.6165  0.6642  0.3358  0.3746  0.4466\n",
       "\n",
       "(3,.,.) = \n",
       " -0.7670 -0.0521 -0.5443  0.0715 -0.3875  1.1996  2.5094\n",
       "  0.3926  0.0558  1.2819  0.6868  1.4159  0.4463  0.4737\n",
       "\n",
       "(4,.,.) = \n",
       "  0.2889  0.9363  1.5691 -0.9442 -0.2759  0.3807 -1.5237\n",
       "  0.2889  0.9363  1.5691 -0.9442 -0.2759  0.3807 -1.5237\n",
       "\n",
       "(5,.,.) = \n",
       "  0.2889  0.9363  1.5691 -0.9442 -0.2759  0.3807 -1.5237\n",
       "  0.3926  0.0558  1.2819  0.6868  1.4159  0.4463  0.4737\n",
       "\n",
       "(6,.,.) = \n",
       " -0.3394  0.8134  0.1767 -1.5619 -0.3534 -1.3882 -0.2253\n",
       " -0.3733  0.3461 -0.6165  0.6642  0.3358  0.3746  0.4466\n",
       "[torch.DoubleTensor of dimension 6x2x7]\n",
       "\n",
       "userdata\t\n"
      ]
     },
     "execution_count": 43,
     "metadata": {},
     "output_type": "execute_result"
    }
   ],
   "source": [
    "\n",
    "   input = torch.Tensor({{1,2},{3,4},{5,2}, {1,1}, {1,2}, {3,4}}) --,  {{5,5},{5,5},{5,2}} })\n",
    "   output = model:forward(input)\n",
    "   for i=1,6 do\n",
    "       print(output[i])\n",
    "   end\n",
    "   print(output)\n",
    "   print(type(output))\n"
   ]
  },
  {
   "cell_type": "code",
   "execution_count": 44,
   "metadata": {
    "collapsed": false
   },
   "outputs": [
    {
     "data": {
      "text/plain": [
       "nn.Sequential {\n",
       "  [input -> (1) -> (2) -> output]\n",
       "  (1): nn.AtomLookupTable\n",
       "  (2): nn.SplitTable\n",
       "}\n",
       "{\n",
       "  gradInput : DoubleTensor - empty\n",
       "  modules : \n",
       "    {\n",
       "      1 : \n",
       "        nn.AtomLookupTable\n",
       "        {\n",
       "          accUpdate : false\n",
       "          output : DoubleTensor - size: 6x2x7\n",
       "          gradInput : DoubleTensor - empty\n",
       "          nBackward : 0\n",
       "          batchSize : LongStorage - size: 3\n",
       "          inputs : table: 0x06c47350\n",
       "          weight : DoubleTensor - size: 5x7\n",
       "          _indices : LongTensor - size: 6x2\n",
       "          gradWeight : DoubleTensor - size: 5x7\n",
       "          size : LongStorage - size: 2\n",
       "          _inputView : LongTensor - size: 12\n",
       "        }\n",
       "      2 : \n",
       "        nn.SplitTable\n",
       "        {\n",
       "          gradInput : DoubleTensor - empty\n",
       "          dimension : 1\n",
       "          output : DoubleTensor - empty\n",
       "        }\n",
       "    }\n",
       "  output : DoubleTensor - empty\n",
       "}\n"
      ]
     },
     "execution_count": 44,
     "metadata": {},
     "output_type": "execute_result"
    }
   ],
   "source": [
    "   model:add(nn.SplitTable(1))"
   ]
  },
  {
   "cell_type": "code",
   "execution_count": 45,
   "metadata": {
    "collapsed": false
   },
   "outputs": [
    {
     "data": {
      "text/plain": [
       " 0.2889  0.9363  1.5691 -0.9442 -0.2759  0.3807 -1.5237\n",
       " 0.3926  0.0558  1.2819  0.6868  1.4159  0.4463  0.4737\n",
       "[torch.DoubleTensor of dimension 2x7]\n",
       "\n",
       "-0.3394  0.8134  0.1767 -1.5619 -0.3534 -1.3882 -0.2253\n",
       "-0.3733  0.3461 -0.6165  0.6642  0.3358  0.3746  0.4466\n",
       "[torch.DoubleTensor of dimension 2x7]\n",
       "\n",
       "-0.7670 -0.0521 -0.5443  0.0715 -0.3875  1.1996  2.5094\n",
       " 0.3926  0.0558  1.2819  0.6868  1.4159  0.4463  0.4737\n",
       "[torch.DoubleTensor of dimension 2x7]\n",
       "\n",
       " 0.2889  0.9363  1.5691 -0.9442 -0.2759  0.3807 -1.5237\n",
       " 0.2889  0.9363  1.5691 -0.9442 -0.2759  0.3807 -1.5237\n",
       "[torch.DoubleTensor of dimension 2x7]\n",
       "\n",
       " 0.2889  0.9363  1.5691 -0.9442 -0.2759  0.3807 -1.5237\n",
       " 0.3926  0.0558  1.2819  0.6868  1.4159  0.4463  0.4737\n",
       "[torch.DoubleTensor of dimension 2x7]\n",
       "\n",
       "-0.3394  0.8134  0.1767 -1.5619 -0.3534 -1.3882 -0.2253\n",
       "-0.3733  0.3461 -0.6165  0.6642  0.3358  0.3746  0.4466\n",
       "[torch.DoubleTensor of dimension 2x7]\n",
       "\n",
       "{\n",
       "  1 : DoubleTensor - size: 2x7\n",
       "  2 : DoubleTensor - size: 2x7\n",
       "  3 : DoubleTensor - size: 2x7\n",
       "  4 : DoubleTensor - size: 2x7\n",
       "  5 : DoubleTensor - size: 2x7\n",
       "  6 : DoubleTensor - size: 2x7\n",
       "}\n",
       "table\t\n"
      ]
     },
     "execution_count": 45,
     "metadata": {},
     "output_type": "execute_result"
    }
   ],
   "source": [
    "  input = torch.Tensor({{1,2},{3,4},{5,2}, {1,1}, {1,2}, {3,4}}) --,  {{5,5},{5,5},{5,2}} })\n",
    "   output = model:forward(input)\n",
    "   for i=1,6 do\n",
    "       print(output[i])\n",
    "   end\n",
    "   print(output)\n",
    "   print(type(output))"
   ]
  },
  {
   "cell_type": "code",
   "execution_count": 46,
   "metadata": {
    "collapsed": true
   },
   "outputs": [],
   "source": [
    "  p = nn.ParallelTable()\n",
    "     for i =1,6 do\n",
    "       --p2 = nn.Linear(7,3)\n",
    "       p2 = nn.Sequential()\n",
    "       p2:add(nn.SplitTable(1))\n",
    "       p2:add(nn.DotProduct())\n",
    "       p:add(p2)\n",
    "     end\n",
    "   model:add(p)\n",
    "   model:add(nn.JoinTable(1))\n"
   ]
  },
  {
   "cell_type": "code",
   "execution_count": 47,
   "metadata": {
    "collapsed": false
   },
   "outputs": [
    {
     "data": {
      "text/plain": [
       "0.58598280881356\t\n",
       "-1.4774429264635\t\n",
       "0.22278175703786\t\n",
       "6.8566215935633\t\n",
       "0.58598280881356\t\n",
       "-1.4774429264635\t\n",
       " 0.5860\n",
       "-1.4774\n",
       " 0.2228\n",
       " 6.8566\n",
       " 0.5860\n",
       "-1.4774\n",
       "[torch.DoubleTensor of dimension 6]\n",
       "\n",
       "userdata\t\n"
      ]
     },
     "execution_count": 47,
     "metadata": {},
     "output_type": "execute_result"
    }
   ],
   "source": [
    "   input = torch.Tensor({{1,2},{3,4},{5,2}, {1,1}, {1,2}, {3,4}}) --,  {{5,5},{5,5},{5,2}} })\n",
    "   output = model:forward(input)\n",
    "   for i=1,6 do\n",
    "       print(output[i])\n",
    "   end\n",
    "   print(output)\n",
    "   print(type(output))"
   ]
  },
  {
   "cell_type": "code",
   "execution_count": 48,
   "metadata": {
    "collapsed": true
   },
   "outputs": [],
   "source": [
    "temp = torch.Tensor(4)"
   ]
  },
  {
   "cell_type": "code",
   "execution_count": 49,
   "metadata": {
    "collapsed": false
   },
   "outputs": [],
   "source": [
    "temp"
   ]
  },
  {
   "cell_type": "code",
   "execution_count": 50,
   "metadata": {
    "collapsed": false
   },
   "outputs": [],
   "source": [
    "temp:normal(0,1)"
   ]
  },
  {
   "cell_type": "code",
   "execution_count": 51,
   "metadata": {
    "collapsed": true
   },
   "outputs": [],
   "source": [
    "out = torch.Tensor"
   ]
  },
  {
   "cell_type": "code",
   "execution_count": 52,
   "metadata": {
    "collapsed": false
   },
   "outputs": [],
   "source": [
    "out"
   ]
  },
  {
   "cell_type": "code",
   "execution_count": 53,
   "metadata": {
    "collapsed": false
   },
   "outputs": [
    {
     "ename": "[string \"local f = function() return out:normal(0,1) e...\"]:1: expected arguments: [Generator] [double] [double] | *DoubleTensor* [Generator] [double] [double]\nstack traceback:\n\t[C]: in function 'f'\n\t[string \"local f = function() return out:normal(0,1) e...\"]:1: in main chunk\n\t[C]: in function 'xpcall'\n\t/Users/viviana/torch/install/share/lua/5.1/itorch/main.lua:174: in function </Users/viviana/torch/install/share/lua/5.1/itorch/main.lua:140>\n\t/Users/viviana/torch/install/share/lua/5.1/lzmq/poller.lua:75: in function 'poll'\n\t...s/viviana/torch/install/share/lua/5.1/lzmq/impl/loop.lua:307: in function 'poll'\n\t...s/viviana/torch/install/share/lua/5.1/lzmq/impl/loop.lua:325: in function 'sleep_ex'\n\t...s/viviana/torch/install/share/lua/5.1/lzmq/impl/loop.lua:370: in function 'start'\n\t/Users/viviana/torch/install/share/lua/5.1/itorch/main.lua:341: in main chunk\n\t[C]: in function 'require'\n\t(command line):1: in main chunk\n\t[C]: at 0x01064927a0",
     "evalue": "",
     "output_type": "error",
     "traceback": [
      "[string \"local f = function() return out:normal(0,1) e...\"]:1: expected arguments: [Generator] [double] [double] | *DoubleTensor* [Generator] [double] [double]\nstack traceback:\n\t[C]: in function 'f'\n\t[string \"local f = function() return out:normal(0,1) e...\"]:1: in main chunk\n\t[C]: in function 'xpcall'\n\t/Users/viviana/torch/install/share/lua/5.1/itorch/main.lua:174: in function </Users/viviana/torch/install/share/lua/5.1/itorch/main.lua:140>\n\t/Users/viviana/torch/install/share/lua/5.1/lzmq/poller.lua:75: in function 'poll'\n\t...s/viviana/torch/install/share/lua/5.1/lzmq/impl/loop.lua:307: in function 'poll'\n\t...s/viviana/torch/install/share/lua/5.1/lzmq/impl/loop.lua:325: in function 'sleep_ex'\n\t...s/viviana/torch/install/share/lua/5.1/lzmq/impl/loop.lua:370: in function 'start'\n\t/Users/viviana/torch/install/share/lua/5.1/itorch/main.lua:341: in main chunk\n\t[C]: in function 'require'\n\t(command line):1: in main chunk\n\t[C]: at 0x01064927a0"
     ]
    }
   ],
   "source": [
    "out:normal(0,1)"
   ]
  },
  {
   "cell_type": "code",
   "execution_count": 54,
   "metadata": {
    "collapsed": true
   },
   "outputs": [],
   "source": [
    "a = {100,200}"
   ]
  },
  {
   "cell_type": "code",
   "execution_count": 55,
   "metadata": {
    "collapsed": false
   },
   "outputs": [
    {
     "data": {
      "text/plain": [
       "{\n",
       "  1 : 100\n",
       "  2 : 200\n",
       "}\n"
      ]
     },
     "execution_count": 55,
     "metadata": {},
     "output_type": "execute_result"
    }
   ],
   "source": [
    "a"
   ]
  },
  {
   "cell_type": "code",
   "execution_count": 56,
   "metadata": {
    "collapsed": false
   },
   "outputs": [
    {
     "data": {
      "text/plain": [
       "100\t\n"
      ]
     },
     "execution_count": 56,
     "metadata": {},
     "output_type": "execute_result"
    }
   ],
   "source": [
    "a[1]"
   ]
  },
  {
   "cell_type": "code",
   "execution_count": null,
   "metadata": {
    "collapsed": true
   },
   "outputs": [],
   "source": []
  }
 ],
 "metadata": {
  "kernelspec": {
   "display_name": "iTorch",
   "language": "lua",
   "name": "itorch"
  },
  "language_info": {
   "name": "lua",
   "version": "20100"
  }
 },
 "nbformat": 4,
 "nbformat_minor": 0
}
