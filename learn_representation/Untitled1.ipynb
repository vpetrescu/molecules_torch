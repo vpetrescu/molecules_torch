{
 "cells": [
  {
   "cell_type": "code",
   "execution_count": 66,
   "metadata": {
    "collapsed": true
   },
   "outputs": [],
   "source": [
    "require 'torch'   -- torch\n",
    "require 'image'   -- for image transforms\n",
    "require 'nn'      -- provides all sorts of trainable modules/layers\n",
    "require 'InputDropout'\n",
    "require 'AtomLookupTable'\n",
    "\n",
    "   -- Simple 2-layer neural network, with tanh hidden units\n",
    "   nbr_input_size = 3\n",
    "   nbr_atom_types = 5\n",
    "   descriptor_length = 7\n",
    "  -- atom_representation = torch.Tensor(nbr_atom_types, descriptor_length)\n",
    "\n",
    "   model = nn.Sequential()\n",
    "   model:add(nn.AtomLookupTable(nbr_atom_types, descriptor_length))\n",
    "   model:add(nn.SplitTable(1))\n",
    "     p = nn.ParallelTable()\n",
    "     for i =1,nbr_input_size do\n",
    "       --p2 = nn.Linear(7,3)\n",
    "       p2 = nn.Sequential()\n",
    "       p2:add(nn.SplitTable(1))\n",
    "       p2:add(nn.DotProduct())\n",
    "       p:add(p2)\n",
    "     end\n",
    "   model:add(p)\n",
    "   model:add(nn.JoinTable(1))\n",
    "   scaling_layer = nn.CMul(nbr_input_size)\n",
    "   tempN = scaling_layer.weight:size()\n",
    "   scaling_layer.weight = torch.Tensor(tempN):fill(0.5)\n"
   ]
  },
  {
   "cell_type": "code",
   "execution_count": 67,
   "metadata": {
    "collapsed": false
   },
   "outputs": [
    {
     "data": {
      "text/plain": [
       "userdata\t\n"
      ]
     },
     "execution_count": 67,
     "metadata": {},
     "output_type": "execute_result"
    }
   ],
   "source": [
    "\n",
    "    model:add(scaling_layer)\n",
    "   model:add(nn.Tanh())\n",
    "   model:add(nn.Linear(nbr_input_size, 1))\n",
    "   input = torch.Tensor({{1,2},{3,4},{5,2}}) --,  {{5,5},{5,5},{5,2}} })\n",
    "   inputtable = {}\n",
    "   inputtable[1] = input\n",
    "   inputtable[2] = input\n",
    "   criterion = nn.MSECriterion()\n",
    "   criterion.sizeAverage = false\n",
    "   print(type(input))\n",
    "\n",
    "   model:training()\n",
    "   parameters, gradParameters = model:getParameters()\n",
    "   gradParameters:zero()\n",
    "   ltarget = torch.Tensor({100})\n",
    "   loutput = model:forward(input)\n",
    "   lerr = criterion:forward(loutput, ltarget)\n",
    "   ldf_fo = criterion:backward(loutput, ltarget)\n",
    "\n"
   ]
  },
  {
   "cell_type": "code",
   "execution_count": 43,
   "metadata": {
    "collapsed": false
   },
   "outputs": [
    {
     "data": {
      "text/plain": [
       "-200.7640\n",
       "[torch.DoubleTensor of dimension 1]\n",
       "\n"
      ]
     },
     "execution_count": 43,
     "metadata": {},
     "output_type": "execute_result"
    }
   ],
   "source": [
    "ldf_fo"
   ]
  },
  {
   "cell_type": "code",
   "execution_count": 53,
   "metadata": {
    "collapsed": false
   },
   "outputs": [
    {
     "data": {
      "text/plain": [
       "-200.7640\n",
       "[torch.DoubleTensor of dimension 1]\n",
       "\n"
      ]
     },
     "execution_count": 53,
     "metadata": {},
     "output_type": "execute_result"
    }
   ],
   "source": [
    "ldf_fo"
   ]
  },
  {
   "cell_type": "code",
   "execution_count": 63,
   "metadata": {
    "collapsed": false
   },
   "outputs": [
    {
     "data": {
      "text/plain": [
       "{\n",
       "  1 : \n",
       "    nn.Sequential {\n",
       "      [input -> (1) -> (2) -> (3) -> (4) -> (5) -> (6) -> (7) -> output]\n",
       "      (1): nn.AtomLookupTable\n",
       "      (2): nn.SplitTable\n",
       "      (3): nn.ParallelTable {\n",
       "        input\n",
       "          |`-> (1): nn.Sequential {\n",
       "          |      [input -> (1) -> (2) -> output]\n",
       "          |      (1): nn.SplitTable\n",
       "          |      (2): nn.DotProduct\n",
       "          |    }\n",
       "          |`-> (2): nn.Sequential {\n",
       "          |      [input -> (1) -> (2) -> output]\n",
       "          |      (1): nn.SplitTable\n",
       "          |      (2): nn.DotProduct\n",
       "          |    }\n",
       "          |`-> (3): nn.Sequential {\n",
       "          |      [input -> (1) -> (2) -> output]\n",
       "          |      (1): nn.SplitTable\n",
       "          |      (2): nn.DotProduct\n",
       "          |    }\n",
       "           ... -> output\n",
       "      }\n",
       "      (4): nn.JoinTable\n",
       "      (5): nn.CMul\n",
       "      (6): nn.Tanh\n",
       "      (7): nn.Linear(3 -> 1)\n",
       "    }\n",
       "    {\n",
       "      gradInput : DoubleTensor - empty\n",
       "      modules : \n",
       "        {\n",
       "          1 : \n",
       "            nn.AtomLookupTable\n",
       "            {\n",
       "              accUpdate : false\n",
       "              output : DoubleTensor - size: 3x2x7\n",
       "              gradInput : DoubleTensor - empty\n",
       "              nBackward : 0\n",
       "              batchSize : LongStorage - size: 3\n",
       "              inputs : table: 0x0b110da0\n",
       "              weight : DoubleTensor - size: 5x7\n",
       "              train : true\n",
       "              gradWeight : DoubleTensor - size: 5x7\n",
       "              size : LongStorage - size: 2\n",
       "              _inputView : LongTensor - size: 6\n",
       "              _indices : LongTensor - size: 3x2\n",
       "            }\n",
       "          2 : \n",
       "            nn.SplitTable\n",
       "            {\n",
       "              gradInput : DoubleTensor - empty\n",
       "              output : \n",
       "                {\n",
       "                  1 : DoubleTensor - size: 2x7\n",
       "                  2 : DoubleTensor - size: 2x7\n",
       "                  3 : DoubleTensor - size: 2x7\n",
       "                }\n",
       "              train : true\n",
       "              dimension : 1\n",
       "            }\n",
       "          3 : \n",
       "            nn.ParallelTable {\n",
       "              input\n",
       "                |`-> (1): nn.Sequential {\n",
       "                |      [input -> (1) -> (2) -> output]\n",
       "                |      (1): nn.SplitTable\n",
       "                |      (2): nn.DotProduct\n",
       "                |    }\n",
       "                |`-> (2): nn.Sequential {\n",
       "                |      [input -> (1) -> (2) -> output]\n",
       "                |      (1): nn.SplitTable\n",
       "                |      (2): nn.DotProduct\n",
       "                |    }\n",
       "                |`-> (3): nn.Sequential {\n",
       "                |      [input -> (1) -> (2) -> output]\n",
       "                |      (1): nn.SplitTable\n",
       "                |      (2): nn.DotProduct\n",
       "                |    }\n",
       "                 ... -> output\n",
       "            }\n",
       "            {\n",
       "              gradInput : table: 0x0b167588\n",
       "              modules : \n",
       "                {\n",
       "                  1 : nn.Sequential {\n",
       "  [input -> (1) -> (2) -> output]\n",
       "  (1): nn.SplitTable\n",
       "  (2): nn.DotProduct\n",
       "}\n",
       "                  2 : nn.Sequential {\n",
       "  [input -> (1) -> (2) -> output]\n",
       "  (1): nn.SplitTable\n",
       "  (2): nn.DotProduct\n",
       "}\n",
       "                  3 : nn.Sequential {\n",
       "  [input -> (1) -> (2) -> output]\n",
       "  (1): nn.SplitTable\n",
       "  (2): nn.DotProduct\n",
       "}\n",
       "                }\n",
       "              output : \n",
       "                {\n",
       "                  1 : DoubleTensor - size: 1\n"
      ]
     },
     "execution_count": 63,
     "metadata": {},
     "output_type": "execute_result"
    },
    {
     "data": {
      "text/plain": [
       "                  2 : DoubleTensor - size: 1\n",
       "                  3 : DoubleTensor - size: 1\n",
       "                }\n",
       "            }\n",
       "          4 : \n",
       "            nn.JoinTable\n",
       "            {\n",
       "              train : true\n",
       "              dimension : 1\n",
       "              gradInput : table: 0x0b16a828\n",
       "              size : LongStorage - size: 1\n",
       "              output : DoubleTensor - size: 3\n",
       "            }\n",
       "          5 : \n",
       "            nn.CMul\n",
       "            {\n",
       "              output : DoubleTensor - size: 3\n",
       "              gradInput : DoubleTensor - empty\n",
       "              _output : DoubleTensor - size: 3\n",
       "              _repeat : DoubleTensor - empty\n",
       "              weight : DoubleTensor - size: 3\n",
       "              train : true\n",
       "              gradWeight : DoubleTensor - size: 3\n",
       "              _weight : DoubleTensor - size: 3\n",
       "              _expand : DoubleTensor - empty\n",
       "              size : LongStorage - size: 1\n",
       "            }\n",
       "          6 : \n",
       "            nn.Tanh\n",
       "            {\n",
       "              gradInput : DoubleTensor - empty\n",
       "              train : true\n",
       "              output : DoubleTensor - size: 3\n",
       "            }\n",
       "          7 : \n",
       "            nn.Linear(3 -> 1)\n",
       "            {\n",
       "              gradBias : DoubleTensor - size: 1\n",
       "              weight : DoubleTensor - size: 1x3\n",
       "              train : true\n",
       "              bias : DoubleTensor - size: 1\n",
       "              gradInput : DoubleTensor - size: 3x2\n",
       "              gradWeight : DoubleTensor - size: 1x3\n",
       "              output : DoubleTensor - size: 1\n",
       "            }\n",
       "        }\n",
       "      output : DoubleTensor - size: 1\n",
       "    }\n",
       "  2 : \n",
       "    nn.AtomLookupTable\n",
       "    {\n",
       "      accUpdate : false\n",
       "      output : DoubleTensor - size: 3x2x7\n",
       "      gradInput : DoubleTensor - empty\n",
       "      nBackward : 0\n",
       "      batchSize : LongStorage - size: 3\n",
       "      inputs : table: 0x0b110da0\n",
       "      weight : DoubleTensor - size: 5x7\n",
       "      train : true\n",
       "      gradWeight : DoubleTensor - size: 5x7\n",
       "      size : LongStorage - size: 2\n",
       "      _inputView : LongTensor - size: 6\n",
       "      _indices : LongTensor - size: 3x2\n",
       "    }\n",
       "  3 : \n",
       "    nn.SplitTable\n",
       "    {\n",
       "      gradInput : DoubleTensor - empty\n",
       "      output : \n",
       "        {\n",
       "          1 : DoubleTensor - size: 2x7\n",
       "          2 : DoubleTensor - size: 2x7\n",
       "          3 : DoubleTensor - size: 2x7\n",
       "        }\n",
       "      train : true\n",
       "      dimension : 1\n",
       "    }\n",
       "  4 : \n",
       "    nn.ParallelTable {\n",
       "      input\n",
       "        |`-> (1): nn.Sequential {\n",
       "        |      [input -> (1) -> (2) -> output]\n",
       "        |      (1): nn.SplitTable\n",
       "        |      (2): nn.DotProduct\n",
       "        |    }\n",
       "        |`-> (2): nn.Sequential {\n",
       "        |      [input -> (1) -> (2) -> output]\n",
       "        |      (1): nn.SplitTable\n",
       "        |      (2): nn.DotProduct\n",
       "        |    }\n",
       "        |`-> (3): nn.Sequential {\n",
       "        |      [input -> (1) -> (2) -> output]\n",
       "        |      (1): nn.SplitTable\n",
       "        |      (2): nn.DotProduct\n",
       "        |    }\n",
       "         ... -> output\n",
       "    }\n",
       "    {\n",
       "      gradInput : table: 0x0b167588\n",
       "      modules : \n",
       "        {\n",
       "          1 : \n",
       "            nn.Sequential {\n",
       "              [input -> (1) -> (2) -> output]\n",
       "              (1): nn.SplitTable\n",
       "              (2): nn.DotProduct\n",
       "            }\n",
       "            {\n",
       "              gradInput : DoubleTensor - empty\n",
       "              modules : \n",
       "                {\n"
      ]
     },
     "execution_count": 63,
     "metadata": {},
     "output_type": "execute_result"
    },
    {
     "data": {
      "text/plain": [
       "                  1 : nn.SplitTable\n",
       "                  2 : nn.DotProduct\n",
       "                }\n",
       "              output : DoubleTensor - size: 1\n",
       "            }\n",
       "          2 : \n",
       "            nn.Sequential {\n",
       "              [input -> (1) -> (2) -> output]\n",
       "              (1): nn.SplitTable\n",
       "              (2): nn.DotProduct\n",
       "            }\n",
       "            {\n",
       "              gradInput : DoubleTensor - empty\n",
       "              modules : \n",
       "                {\n",
       "                  1 : nn.SplitTable\n",
       "                  2 : nn.DotProduct\n",
       "                }\n",
       "              output : DoubleTensor - size: 1\n",
       "            }\n",
       "          3 : \n",
       "            nn.Sequential {\n",
       "              [input -> (1) -> (2) -> output]\n",
       "              (1): nn.SplitTable\n",
       "              (2): nn.DotProduct\n",
       "            }\n",
       "            {\n",
       "              gradInput : DoubleTensor - empty\n",
       "              modules : \n",
       "                {\n",
       "                  1 : nn.SplitTable\n",
       "                  2 : nn.DotProduct\n",
       "                }\n",
       "              output : DoubleTensor - size: 1\n",
       "            }\n",
       "        }\n",
       "      output : \n",
       "        {\n",
       "          1 : DoubleTensor - size: 1\n",
       "          2 : DoubleTensor - size: 1\n",
       "          3 : DoubleTensor - size: 1\n",
       "        }\n",
       "    }\n",
       "  5 : \n",
       "    nn.Sequential {\n",
       "      [input -> (1) -> (2) -> output]\n",
       "      (1): nn.SplitTable\n",
       "      (2): nn.DotProduct\n",
       "    }\n",
       "    {\n",
       "      gradInput : DoubleTensor - empty\n",
       "      modules : \n",
       "        {\n",
       "          1 : \n",
       "            nn.SplitTable\n",
       "            {\n",
       "              gradInput : DoubleTensor - empty\n",
       "              output : \n",
       "                {\n",
       "                  1 : DoubleTensor - size: 7\n",
       "                  2 : DoubleTensor - size: 7\n",
       "                }\n",
       "              train : true\n",
       "              dimension : 1\n",
       "            }\n",
       "          2 : \n",
       "            nn.DotProduct\n",
       "            {\n",
       "              gradInput : \n",
       "                {\n",
       "                  1 : DoubleTensor - empty\n",
       "                  2 : DoubleTensor - empty\n",
       "                }\n",
       "              train : true\n",
       "              output : DoubleTensor - size: 1\n",
       "            }\n",
       "        }\n",
       "      output : DoubleTensor - size: 1\n",
       "    }\n",
       "  6 : \n",
       "    nn.SplitTable\n",
       "    {\n",
       "      gradInput : DoubleTensor - empty\n",
       "      output : \n",
       "        {\n",
       "          1 : DoubleTensor - size: 7\n",
       "          2 : DoubleTensor - size: 7\n",
       "        }\n",
       "      train : true\n",
       "      dimension : 1\n",
       "    }\n",
       "  7 : \n",
       "    nn.DotProduct\n",
       "    {\n",
       "      gradInput : \n",
       "        {\n",
       "          1 : DoubleTensor - empty\n",
       "          2 : DoubleTensor - empty\n",
       "        }\n",
       "      train : true\n",
       "      output : DoubleTensor - size: 1\n",
       "    }\n",
       "  8 : \n",
       "   "
      ]
     },
     "execution_count": 63,
     "metadata": {},
     "output_type": "execute_result"
    },
    {
     "data": {
      "text/plain": [
       " nn.Sequential {\n",
       "      [input -> (1) -> (2) -> output]\n",
       "      (1): nn.SplitTable\n",
       "      (2): nn.DotProduct\n",
       "    }\n",
       "    {\n",
       "      gradInput : DoubleTensor - empty\n",
       "      modules : \n",
       "        {\n",
       "          1 : \n",
       "            nn.SplitTable\n",
       "            {\n",
       "              gradInput : DoubleTensor - empty\n",
       "              output : \n",
       "                {\n",
       "                  1 : DoubleTensor - size: 7\n",
       "                  2 : DoubleTensor - size: 7\n",
       "                }\n",
       "              train : true\n",
       "              dimension : 1\n",
       "            }\n",
       "          2 : \n",
       "            nn.DotProduct\n",
       "            {\n",
       "              gradInput : \n",
       "                {\n",
       "                  1 : DoubleTensor - empty\n",
       "                  2 : DoubleTensor - empty\n",
       "                }\n",
       "              train : true\n",
       "              output : DoubleTensor - size: 1\n",
       "            }\n",
       "        }\n",
       "      output : DoubleTensor - size: 1\n",
       "    }\n",
       "  9 : \n",
       "    nn.SplitTable\n",
       "    {\n",
       "      gradInput : DoubleTensor - empty\n",
       "      output : \n",
       "        {\n",
       "          1 : DoubleTensor - size: 7\n",
       "          2 : DoubleTensor - size: 7\n",
       "        }\n",
       "      train : true\n",
       "      dimension : 1\n",
       "    }\n",
       "  10 : \n",
       "    nn.DotProduct\n",
       "    {\n",
       "      gradInput : \n",
       "        {\n",
       "          1 : DoubleTensor - empty\n",
       "          2 : DoubleTensor - empty\n",
       "        }\n",
       "      train : true\n",
       "      output : DoubleTensor - size: 1\n",
       "    }\n",
       "  11 : \n",
       "    nn.Sequential {\n",
       "      [input -> (1) -> (2) -> output]\n",
       "      (1): nn.SplitTable\n",
       "      (2): nn.DotProduct\n",
       "    }\n",
       "    {\n",
       "      gradInput : DoubleTensor - empty\n",
       "      modules : \n",
       "        {\n",
       "          1 : \n",
       "            nn.SplitTable\n",
       "            {\n",
       "              gradInput : DoubleTensor - empty\n",
       "              output : \n",
       "                {\n",
       "                  1 : DoubleTensor - size: 7\n",
       "                  2 : DoubleTensor - size: 7\n",
       "                }\n",
       "              train : true\n",
       "              dimension : 1\n",
       "            }\n",
       "          2 : \n",
       "            nn.DotProduct\n",
       "            {\n",
       "              gradInput : \n",
       "                {\n",
       "                  1 : DoubleTensor - empty\n",
       "                  2 : DoubleTensor - empty\n",
       "                }\n",
       "              train : true\n",
       "              output : DoubleTensor - size: 1\n",
       "            }\n",
       "        }\n",
       "      output : DoubleTensor - size: 1\n",
       "    }\n",
       "  12 : \n",
       "    nn.SplitTable\n",
       "    {\n",
       "      gradInput : DoubleTensor - empty\n",
       "      output : \n",
       "        {\n",
       "          1 : DoubleTensor - size: 7\n",
       "          2 : DoubleTensor - size: 7\n",
       "        }\n",
       "      train : true\n",
       "      dimension : 1\n",
       "    }\n",
       "  13 : \n",
       "    nn.DotProduct\n",
       "    {\n",
       "      gradInput : \n",
       "        {\n",
       "          1 : DoubleTensor - empty\n",
       "          2 : DoubleTensor - empty\n",
       "        }\n",
       "      train : true\n",
       "      output : DoubleTensor - size: 1\n",
       "    }\n",
       "  14 : \n",
       "  "
      ]
     },
     "execution_count": 63,
     "metadata": {},
     "output_type": "execute_result"
    },
    {
     "data": {
      "text/plain": [
       "  nn.JoinTable\n",
       "    {\n",
       "      train : true\n",
       "      dimension : 1\n",
       "      gradInput : table: 0x0b16a828\n",
       "      size : LongStorage - size: 1\n",
       "      output : DoubleTensor - size: 3\n",
       "    }\n",
       "  15 : \n",
       "    nn.CMul\n",
       "    {\n",
       "      output : DoubleTensor - size: 3\n",
       "      gradInput : DoubleTensor - empty\n",
       "      _output : DoubleTensor - size: 3\n",
       "      _repeat : DoubleTensor - empty\n",
       "      weight : DoubleTensor - size: 3\n",
       "      train : true\n",
       "      gradWeight : DoubleTensor - size: 3\n",
       "      _weight : DoubleTensor - size: 3\n",
       "      _expand : DoubleTensor - empty\n",
       "      size : LongStorage - size: 1\n",
       "    }\n",
       "  16 : \n",
       "    nn.Tanh\n",
       "    {\n",
       "      gradInput : DoubleTensor - empty\n",
       "      train : true\n",
       "      output : DoubleTensor - size: 3\n",
       "    }\n",
       "  17 : \n",
       "    nn.Linear(3 -> 1)\n",
       "    {\n",
       "      gradBias : DoubleTensor - size: 1\n",
       "      weight : DoubleTensor - size: 1x3\n",
       "      train : true\n",
       "      bias : DoubleTensor - size: 1\n",
       "      gradInput : DoubleTensor - size: 3x2\n",
       "      gradWeight : DoubleTensor - size: 1x3\n",
       "      output : DoubleTensor - size: 1\n",
       "    }\n",
       "}\n"
      ]
     },
     "execution_count": 63,
     "metadata": {},
     "output_type": "execute_result"
    }
   ],
   "source": [
    "model:listModules()"
   ]
  },
  {
   "cell_type": "code",
   "execution_count": 68,
   "metadata": {
    "collapsed": false
   },
   "outputs": [
    {
     "data": {
      "text/plain": [
       "[torch.DoubleTensor with no dimension]\n",
       "\n"
      ]
     },
     "execution_count": 68,
     "metadata": {},
     "output_type": "execute_result"
    }
   ],
   "source": [
    "model:backward(input, ldf_fo)"
   ]
  },
  {
   "cell_type": "code",
   "execution_count": 69,
   "metadata": {
    "collapsed": false
   },
   "outputs": [
    {
     "data": {
      "text/plain": [
       "-198.2967\n",
       "[torch.DoubleTensor of dimension 1]\n",
       "\n"
      ]
     },
     "execution_count": 69,
     "metadata": {},
     "output_type": "execute_result"
    }
   ],
   "source": [
    "ldf_fo"
   ]
  },
  {
   "cell_type": "code",
   "execution_count": 70,
   "metadata": {
    "collapsed": true
   },
   "outputs": [],
   "source": [
    " loutput = model:forward(input)\n",
    "   lerr = criterion:forward(loutput, ltarget)\n",
    "   ldf_fo = criterion:backward(loutput, ltarget)"
   ]
  },
  {
   "cell_type": "code",
   "execution_count": 71,
   "metadata": {
    "collapsed": false
   },
   "outputs": [
    {
     "data": {
      "text/plain": [
       "[torch.DoubleTensor with no dimension]\n",
       "\n"
      ]
     },
     "execution_count": 71,
     "metadata": {},
     "output_type": "execute_result"
    }
   ],
   "source": [
    "model:backward(input, ldf_fo)"
   ]
  },
  {
   "cell_type": "code",
   "execution_count": 72,
   "metadata": {
    "collapsed": false
   },
   "outputs": [
    {
     "data": {
      "text/plain": [
       "-0.2629 -0.1233 -2.8599 -2.3919 -1.1037 -0.0289  1.5231\n",
       "-0.3862 -0.3790 -1.5086  0.3499 -0.3300 -1.2687  0.1998\n",
       " 0.2605  0.3519 -0.6958  0.3266 -0.1690  0.1341  0.1876\n",
       " 0.8815  0.8076 -0.6524 -0.7571 -0.6862 -0.2972  0.1722\n",
       " 1.1026  0.3006 -0.0858 -0.7448 -0.7965  1.9538  3.2091\n",
       "[torch.DoubleTensor of dimension 5x7]\n",
       "\n"
      ]
     },
     "execution_count": 72,
     "metadata": {},
     "output_type": "execute_result"
    }
   ],
   "source": [
    "model:get(1).weight"
   ]
  },
  {
   "cell_type": "code",
   "execution_count": 79,
   "metadata": {
    "collapsed": false
   },
   "outputs": [
    {
     "data": {
      "text/plain": [
       "-0.0819  0.2150 -0.5430\n",
       "[torch.DoubleTensor of dimension 1x3]\n",
       "\n"
      ]
     },
     "execution_count": 79,
     "metadata": {},
     "output_type": "execute_result"
    }
   ],
   "source": [
    "model:get(7).weight"
   ]
  },
  {
   "cell_type": "code",
   "execution_count": 80,
   "metadata": {
    "collapsed": true
   },
   "outputs": [],
   "source": [
    " loutput = model:forward(input)\n",
    "   lerr = criterion:forward(loutput, ltarget)\n",
    "   ldf_fo = criterion:backward(loutput, ltarget)"
   ]
  },
  {
   "cell_type": "code",
   "execution_count": 81,
   "metadata": {
    "collapsed": false
   },
   "outputs": [
    {
     "data": {
      "text/plain": [
       "[torch.DoubleTensor with no dimension]\n",
       "\n"
      ]
     },
     "execution_count": 81,
     "metadata": {},
     "output_type": "execute_result"
    }
   ],
   "source": [
    "model:backward(input, ldf_fo)"
   ]
  },
  {
   "cell_type": "code",
   "execution_count": 82,
   "metadata": {
    "collapsed": false
   },
   "outputs": [
    {
     "data": {
      "text/plain": [
       "-0.0819  0.2150 -0.5430\n",
       "[torch.DoubleTensor of dimension 1x3]\n",
       "\n"
      ]
     },
     "execution_count": 82,
     "metadata": {},
     "output_type": "execute_result"
    }
   ],
   "source": [
    "model:get(7).weight"
   ]
  },
  {
   "cell_type": "code",
   "execution_count": null,
   "metadata": {
    "collapsed": true
   },
   "outputs": [],
   "source": []
  }
 ],
 "metadata": {
  "kernelspec": {
   "display_name": "iTorch",
   "language": "lua",
   "name": "itorch"
  },
  "language_info": {
   "name": "lua",
   "version": "20100"
  }
 },
 "nbformat": 4,
 "nbformat_minor": 0
}
